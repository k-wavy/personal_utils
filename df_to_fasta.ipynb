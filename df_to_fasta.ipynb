{
 "cells": [
  {
   "cell_type": "code",
   "execution_count": 1,
   "metadata": {},
   "outputs": [],
   "source": [
    "import pandas as pd\n",
    "from deepBreaks.preprocessing import read_data"
   ]
  },
  {
   "cell_type": "code",
   "execution_count": 4,
   "metadata": {},
   "outputs": [],
   "source": [
    "ncbi_query_file = f\"./vpod_1.2/Karyasuyama_T1_ops_meta.tsv\"\n",
    "ncbi_data = read_data(ncbi_query_file, seq_type = None, is_main=False)\n",
    "\n",
    "fasta_file = f'./vpod_1.2/Karyasuyama_T1_ops.txt'\n",
    "with open(fasta_file, 'w') as f:\n",
    "    for id, seq in zip(ncbi_data.index.to_list(), ncbi_data['Sequence']):\n",
    "        f.write(f'>{id}\\n{seq}\\n')"
   ]
  }
 ],
 "metadata": {
  "kernelspec": {
   "display_name": "deepBreaks",
   "language": "python",
   "name": "python3"
  },
  "language_info": {
   "codemirror_mode": {
    "name": "ipython",
    "version": 3
   },
   "file_extension": ".py",
   "mimetype": "text/x-python",
   "name": "python",
   "nbconvert_exporter": "python",
   "pygments_lexer": "ipython3",
   "version": "3.9.17"
  }
 },
 "nbformat": 4,
 "nbformat_minor": 2
}
